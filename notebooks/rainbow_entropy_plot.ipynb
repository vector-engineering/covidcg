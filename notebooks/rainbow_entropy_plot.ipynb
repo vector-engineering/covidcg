{
 "cells": [
  {
   "cell_type": "code",
   "execution_count": 1,
   "metadata": {
    "ExecuteTime": {
     "end_time": "2020-06-09T21:01:02.248166Z",
     "start_time": "2020-06-09T21:01:01.857964Z"
    }
   },
   "outputs": [],
   "source": [
    "import numpy as np\n",
    "import pandas as pd\n",
    "import re\n",
    "\n",
    "from pathlib import Path"
   ]
  },
  {
   "cell_type": "code",
   "execution_count": 2,
   "metadata": {
    "ExecuteTime": {
     "end_time": "2020-06-09T21:01:03.027565Z",
     "start_time": "2020-06-09T21:01:02.306895Z"
    }
   },
   "outputs": [
    {
     "name": "stdout",
     "output_type": "stream",
     "text": [
      "aa_snp_sig_counts.csv                 explore_snps2.ipynb\r\n",
      "classify_clade_snps.ipynb             process_pangolin_lineages.ipynb\r\n",
      "clean_locations.ipynb                 rainbow_entropy_plot.ipynb\r\n",
      "clean_locations2.ipynb                snp_mapping.ipynb\r\n",
      "dna_snp_map.csv                       spike_rainbow.png\r\n",
      "embed_sequence_counts_into_tree.ipynb valid_aa_snps.csv\r\n",
      "explore_snps.ipynb                    valid_dna_snps.csv\r\n"
     ]
    }
   ],
   "source": [
    "!ls"
   ]
  },
  {
   "cell_type": "code",
   "execution_count": 3,
   "metadata": {
    "ExecuteTime": {
     "end_time": "2020-06-09T21:01:03.095369Z",
     "start_time": "2020-06-09T21:01:03.092439Z"
    }
   },
   "outputs": [],
   "source": [
    "data_dir = Path('/Volumes/GoogleDrive/My Drive/covid_data')"
   ]
  },
  {
   "cell_type": "code",
   "execution_count": 4,
   "metadata": {
    "ExecuteTime": {
     "end_time": "2020-06-09T21:01:03.651238Z",
     "start_time": "2020-06-09T21:01:03.153504Z"
    }
   },
   "outputs": [
    {
     "data": {
      "text/html": [
       "<div>\n",
       "<style scoped>\n",
       "    .dataframe tbody tr th:only-of-type {\n",
       "        vertical-align: middle;\n",
       "    }\n",
       "\n",
       "    .dataframe tbody tr th {\n",
       "        vertical-align: top;\n",
       "    }\n",
       "\n",
       "    .dataframe thead th {\n",
       "        text-align: right;\n",
       "    }\n",
       "</style>\n",
       "<table border=\"1\" class=\"dataframe\">\n",
       "  <thead>\n",
       "    <tr style=\"text-align: right;\">\n",
       "      <th></th>\n",
       "      <th>taxon</th>\n",
       "      <th>gene</th>\n",
       "      <th>pos</th>\n",
       "      <th>ref</th>\n",
       "      <th>alt</th>\n",
       "    </tr>\n",
       "  </thead>\n",
       "  <tbody>\n",
       "    <tr>\n",
       "      <th>0</th>\n",
       "      <td>hCoV-19/USA/FL-BPHL-046/2020|EPI_ISL_436550|20...</td>\n",
       "      <td>ORF1a</td>\n",
       "      <td>3643</td>\n",
       "      <td>L</td>\n",
       "      <td>F</td>\n",
       "    </tr>\n",
       "    <tr>\n",
       "      <th>1</th>\n",
       "      <td>hCoV-19/USA/FL-BPHL-046/2020|EPI_ISL_436550|20...</td>\n",
       "      <td>ORF1b</td>\n",
       "      <td>313</td>\n",
       "      <td>P</td>\n",
       "      <td>L</td>\n",
       "    </tr>\n",
       "    <tr>\n",
       "      <th>2</th>\n",
       "      <td>hCoV-19/USA/FL-BPHL-046/2020|EPI_ISL_436550|20...</td>\n",
       "      <td>ORF1b</td>\n",
       "      <td>578</td>\n",
       "      <td>V</td>\n",
       "      <td>L</td>\n",
       "    </tr>\n",
       "    <tr>\n",
       "      <th>3</th>\n",
       "      <td>hCoV-19/USA/FL-BPHL-046/2020|EPI_ISL_436550|20...</td>\n",
       "      <td>S</td>\n",
       "      <td>613</td>\n",
       "      <td>D</td>\n",
       "      <td>G</td>\n",
       "    </tr>\n",
       "    <tr>\n",
       "      <th>4</th>\n",
       "      <td>hCoV-19/USA/FL-BPHL-046/2020|EPI_ISL_436550|20...</td>\n",
       "      <td>ORF3a</td>\n",
       "      <td>56</td>\n",
       "      <td>Q</td>\n",
       "      <td>H</td>\n",
       "    </tr>\n",
       "    <tr>\n",
       "      <th>...</th>\n",
       "      <td>...</td>\n",
       "      <td>...</td>\n",
       "      <td>...</td>\n",
       "      <td>...</td>\n",
       "      <td>...</td>\n",
       "    </tr>\n",
       "    <tr>\n",
       "      <th>171621</th>\n",
       "      <td>hCoV-19/Netherlands/Gelderland_48/2020|EPI_ISL...</td>\n",
       "      <td>ORF1b</td>\n",
       "      <td>742</td>\n",
       "      <td>H</td>\n",
       "      <td>Q</td>\n",
       "    </tr>\n",
       "    <tr>\n",
       "      <th>171622</th>\n",
       "      <td>hCoV-19/Netherlands/Gelderland_48/2020|EPI_ISL...</td>\n",
       "      <td>S</td>\n",
       "      <td>613</td>\n",
       "      <td>D</td>\n",
       "      <td>G</td>\n",
       "    </tr>\n",
       "    <tr>\n",
       "      <th>171623</th>\n",
       "      <td>hCoV-19/Netherlands/Gelderland_48/2020|EPI_ISL...</td>\n",
       "      <td>ORF7a</td>\n",
       "      <td>40</td>\n",
       "      <td>E</td>\n",
       "      <td>_</td>\n",
       "    </tr>\n",
       "    <tr>\n",
       "      <th>171624</th>\n",
       "      <td>hCoV-19/Netherlands/Gelderland_48/2020|EPI_ISL...</td>\n",
       "      <td>N</td>\n",
       "      <td>202</td>\n",
       "      <td>R</td>\n",
       "      <td>K</td>\n",
       "    </tr>\n",
       "    <tr>\n",
       "      <th>171625</th>\n",
       "      <td>hCoV-19/Netherlands/Gelderland_48/2020|EPI_ISL...</td>\n",
       "      <td>N</td>\n",
       "      <td>203</td>\n",
       "      <td>G</td>\n",
       "      <td>R</td>\n",
       "    </tr>\n",
       "  </tbody>\n",
       "</table>\n",
       "<p>171626 rows × 5 columns</p>\n",
       "</div>"
      ],
      "text/plain": [
       "                                                    taxon   gene   pos ref alt\n",
       "0       hCoV-19/USA/FL-BPHL-046/2020|EPI_ISL_436550|20...  ORF1a  3643   L   F\n",
       "1       hCoV-19/USA/FL-BPHL-046/2020|EPI_ISL_436550|20...  ORF1b   313   P   L\n",
       "2       hCoV-19/USA/FL-BPHL-046/2020|EPI_ISL_436550|20...  ORF1b   578   V   L\n",
       "3       hCoV-19/USA/FL-BPHL-046/2020|EPI_ISL_436550|20...      S   613   D   G\n",
       "4       hCoV-19/USA/FL-BPHL-046/2020|EPI_ISL_436550|20...  ORF3a    56   Q   H\n",
       "...                                                   ...    ...   ...  ..  ..\n",
       "171621  hCoV-19/Netherlands/Gelderland_48/2020|EPI_ISL...  ORF1b   742   H   Q\n",
       "171622  hCoV-19/Netherlands/Gelderland_48/2020|EPI_ISL...      S   613   D   G\n",
       "171623  hCoV-19/Netherlands/Gelderland_48/2020|EPI_ISL...  ORF7a    40   E   _\n",
       "171624  hCoV-19/Netherlands/Gelderland_48/2020|EPI_ISL...      N   202   R   K\n",
       "171625  hCoV-19/Netherlands/Gelderland_48/2020|EPI_ISL...      N   203   G   R\n",
       "\n",
       "[171626 rows x 5 columns]"
      ]
     },
     "execution_count": 4,
     "metadata": {},
     "output_type": "execute_result"
    }
   ],
   "source": [
    "# Load AA SNP data\n",
    "aa_snp_path = data_dir / 'aa_snp'\n",
    "aa_snp_df = pd.DataFrame()\n",
    "for f in aa_snp_path.glob('*.csv'):\n",
    "    aa_snp_df = pd.concat([aa_snp_df, pd.read_csv(f)], ignore_index=True)\n",
    "aa_snp_df"
   ]
  },
  {
   "cell_type": "code",
   "execution_count": 5,
   "metadata": {
    "ExecuteTime": {
     "end_time": "2020-06-09T21:01:03.763051Z",
     "start_time": "2020-06-09T21:01:03.750228Z"
    }
   },
   "outputs": [
    {
     "data": {
      "text/html": [
       "<div>\n",
       "<style scoped>\n",
       "    .dataframe tbody tr th:only-of-type {\n",
       "        vertical-align: middle;\n",
       "    }\n",
       "\n",
       "    .dataframe tbody tr th {\n",
       "        vertical-align: top;\n",
       "    }\n",
       "\n",
       "    .dataframe thead th {\n",
       "        text-align: right;\n",
       "    }\n",
       "</style>\n",
       "<table border=\"1\" class=\"dataframe\">\n",
       "  <thead>\n",
       "    <tr style=\"text-align: right;\">\n",
       "      <th></th>\n",
       "      <th>index</th>\n",
       "      <th>gene</th>\n",
       "      <th>locus_tag</th>\n",
       "      <th>db_xref</th>\n",
       "      <th>codon_start</th>\n",
       "      <th>start</th>\n",
       "      <th>end</th>\n",
       "      <th>protein_coding</th>\n",
       "    </tr>\n",
       "  </thead>\n",
       "  <tbody>\n",
       "    <tr>\n",
       "      <th>0</th>\n",
       "      <td>1</td>\n",
       "      <td>5'UTR</td>\n",
       "      <td>NaN</td>\n",
       "      <td>NaN</td>\n",
       "      <td>NaN</td>\n",
       "      <td>1</td>\n",
       "      <td>265</td>\n",
       "      <td>0</td>\n",
       "    </tr>\n",
       "    <tr>\n",
       "      <th>1</th>\n",
       "      <td>2</td>\n",
       "      <td>ORF1a</td>\n",
       "      <td>NaN</td>\n",
       "      <td>NaN</td>\n",
       "      <td>1.0</td>\n",
       "      <td>266</td>\n",
       "      <td>13468</td>\n",
       "      <td>1</td>\n",
       "    </tr>\n",
       "    <tr>\n",
       "      <th>2</th>\n",
       "      <td>3</td>\n",
       "      <td>ORF1b</td>\n",
       "      <td>NaN</td>\n",
       "      <td>NaN</td>\n",
       "      <td>NaN</td>\n",
       "      <td>13468</td>\n",
       "      <td>21555</td>\n",
       "      <td>1</td>\n",
       "    </tr>\n",
       "    <tr>\n",
       "      <th>3</th>\n",
       "      <td>4</td>\n",
       "      <td>S</td>\n",
       "      <td>NaN</td>\n",
       "      <td>NaN</td>\n",
       "      <td>1.0</td>\n",
       "      <td>21563</td>\n",
       "      <td>25384</td>\n",
       "      <td>1</td>\n",
       "    </tr>\n",
       "    <tr>\n",
       "      <th>4</th>\n",
       "      <td>5</td>\n",
       "      <td>ORF3a</td>\n",
       "      <td>NaN</td>\n",
       "      <td>NaN</td>\n",
       "      <td>1.0</td>\n",
       "      <td>25393</td>\n",
       "      <td>26220</td>\n",
       "      <td>1</td>\n",
       "    </tr>\n",
       "    <tr>\n",
       "      <th>5</th>\n",
       "      <td>6</td>\n",
       "      <td>E</td>\n",
       "      <td>NaN</td>\n",
       "      <td>NaN</td>\n",
       "      <td>1.0</td>\n",
       "      <td>26245</td>\n",
       "      <td>26472</td>\n",
       "      <td>1</td>\n",
       "    </tr>\n",
       "    <tr>\n",
       "      <th>6</th>\n",
       "      <td>7</td>\n",
       "      <td>M</td>\n",
       "      <td>NaN</td>\n",
       "      <td>NaN</td>\n",
       "      <td>1.0</td>\n",
       "      <td>26523</td>\n",
       "      <td>27191</td>\n",
       "      <td>1</td>\n",
       "    </tr>\n",
       "    <tr>\n",
       "      <th>7</th>\n",
       "      <td>8</td>\n",
       "      <td>ORF6</td>\n",
       "      <td>NaN</td>\n",
       "      <td>NaN</td>\n",
       "      <td>1.0</td>\n",
       "      <td>27202</td>\n",
       "      <td>27387</td>\n",
       "      <td>1</td>\n",
       "    </tr>\n",
       "    <tr>\n",
       "      <th>8</th>\n",
       "      <td>9</td>\n",
       "      <td>ORF7a</td>\n",
       "      <td>NaN</td>\n",
       "      <td>NaN</td>\n",
       "      <td>1.0</td>\n",
       "      <td>27394</td>\n",
       "      <td>27759</td>\n",
       "      <td>1</td>\n",
       "    </tr>\n",
       "    <tr>\n",
       "      <th>9</th>\n",
       "      <td>10</td>\n",
       "      <td>ORF7b</td>\n",
       "      <td>NaN</td>\n",
       "      <td>NaN</td>\n",
       "      <td>1.0</td>\n",
       "      <td>27756</td>\n",
       "      <td>27887</td>\n",
       "      <td>1</td>\n",
       "    </tr>\n",
       "    <tr>\n",
       "      <th>10</th>\n",
       "      <td>11</td>\n",
       "      <td>ORF8</td>\n",
       "      <td>NaN</td>\n",
       "      <td>NaN</td>\n",
       "      <td>1.0</td>\n",
       "      <td>27894</td>\n",
       "      <td>28259</td>\n",
       "      <td>1</td>\n",
       "    </tr>\n",
       "    <tr>\n",
       "      <th>11</th>\n",
       "      <td>12</td>\n",
       "      <td>N</td>\n",
       "      <td>NaN</td>\n",
       "      <td>NaN</td>\n",
       "      <td>1.0</td>\n",
       "      <td>28274</td>\n",
       "      <td>29533</td>\n",
       "      <td>1</td>\n",
       "    </tr>\n",
       "    <tr>\n",
       "      <th>12</th>\n",
       "      <td>13</td>\n",
       "      <td>ORF10</td>\n",
       "      <td>NaN</td>\n",
       "      <td>NaN</td>\n",
       "      <td>1.0</td>\n",
       "      <td>29558</td>\n",
       "      <td>29674</td>\n",
       "      <td>1</td>\n",
       "    </tr>\n",
       "    <tr>\n",
       "      <th>13</th>\n",
       "      <td>14</td>\n",
       "      <td>3'UTR</td>\n",
       "      <td>NaN</td>\n",
       "      <td>NaN</td>\n",
       "      <td>1.0</td>\n",
       "      <td>29675</td>\n",
       "      <td>29903</td>\n",
       "      <td>0</td>\n",
       "    </tr>\n",
       "  </tbody>\n",
       "</table>\n",
       "</div>"
      ],
      "text/plain": [
       "    index   gene  locus_tag  db_xref  codon_start  start    end  \\\n",
       "0       1  5'UTR        NaN      NaN          NaN      1    265   \n",
       "1       2  ORF1a        NaN      NaN          1.0    266  13468   \n",
       "2       3  ORF1b        NaN      NaN          NaN  13468  21555   \n",
       "3       4      S        NaN      NaN          1.0  21563  25384   \n",
       "4       5  ORF3a        NaN      NaN          1.0  25393  26220   \n",
       "5       6      E        NaN      NaN          1.0  26245  26472   \n",
       "6       7      M        NaN      NaN          1.0  26523  27191   \n",
       "7       8   ORF6        NaN      NaN          1.0  27202  27387   \n",
       "8       9  ORF7a        NaN      NaN          1.0  27394  27759   \n",
       "9      10  ORF7b        NaN      NaN          1.0  27756  27887   \n",
       "10     11   ORF8        NaN      NaN          1.0  27894  28259   \n",
       "11     12      N        NaN      NaN          1.0  28274  29533   \n",
       "12     13  ORF10        NaN      NaN          1.0  29558  29674   \n",
       "13     14  3'UTR        NaN      NaN          1.0  29675  29903   \n",
       "\n",
       "    protein_coding  \n",
       "0                0  \n",
       "1                1  \n",
       "2                1  \n",
       "3                1  \n",
       "4                1  \n",
       "5                1  \n",
       "6                1  \n",
       "7                1  \n",
       "8                1  \n",
       "9                1  \n",
       "10               1  \n",
       "11               1  \n",
       "12               1  \n",
       "13               0  "
      ]
     },
     "execution_count": 5,
     "metadata": {},
     "output_type": "execute_result"
    }
   ],
   "source": [
    "genes_df = pd.read_csv(data_dir / 'genes.csv')\n",
    "genes_df"
   ]
  },
  {
   "cell_type": "markdown",
   "metadata": {},
   "source": [
    "# Try on Spike first, AA only"
   ]
  },
  {
   "cell_type": "code",
   "execution_count": 6,
   "metadata": {
    "ExecuteTime": {
     "end_time": "2020-06-09T21:01:03.952321Z",
     "start_time": "2020-06-09T21:01:03.915245Z"
    }
   },
   "outputs": [
    {
     "data": {
      "text/html": [
       "<div>\n",
       "<style scoped>\n",
       "    .dataframe tbody tr th:only-of-type {\n",
       "        vertical-align: middle;\n",
       "    }\n",
       "\n",
       "    .dataframe tbody tr th {\n",
       "        vertical-align: top;\n",
       "    }\n",
       "\n",
       "    .dataframe thead th {\n",
       "        text-align: right;\n",
       "    }\n",
       "</style>\n",
       "<table border=\"1\" class=\"dataframe\">\n",
       "  <thead>\n",
       "    <tr style=\"text-align: right;\">\n",
       "      <th></th>\n",
       "      <th>taxon</th>\n",
       "      <th>gene</th>\n",
       "      <th>pos</th>\n",
       "      <th>ref</th>\n",
       "      <th>alt</th>\n",
       "    </tr>\n",
       "  </thead>\n",
       "  <tbody>\n",
       "    <tr>\n",
       "      <th>3</th>\n",
       "      <td>hCoV-19/USA/FL-BPHL-046/2020|EPI_ISL_436550|20...</td>\n",
       "      <td>S</td>\n",
       "      <td>613</td>\n",
       "      <td>D</td>\n",
       "      <td>G</td>\n",
       "    </tr>\n",
       "    <tr>\n",
       "      <th>9</th>\n",
       "      <td>hCoV-19/USA/FL-BPHL-047/2020|EPI_ISL_436551|20...</td>\n",
       "      <td>S</td>\n",
       "      <td>613</td>\n",
       "      <td>D</td>\n",
       "      <td>G</td>\n",
       "    </tr>\n",
       "    <tr>\n",
       "      <th>15</th>\n",
       "      <td>hCoV-19/USA/FL-BPHL-048/2020|EPI_ISL_436552|20...</td>\n",
       "      <td>S</td>\n",
       "      <td>613</td>\n",
       "      <td>D</td>\n",
       "      <td>G</td>\n",
       "    </tr>\n",
       "    <tr>\n",
       "      <th>20</th>\n",
       "      <td>hCoV-19/USA/FL-BPHL-051/2020|EPI_ISL_436555|20...</td>\n",
       "      <td>S</td>\n",
       "      <td>613</td>\n",
       "      <td>D</td>\n",
       "      <td>G</td>\n",
       "    </tr>\n",
       "    <tr>\n",
       "      <th>26</th>\n",
       "      <td>hCoV-19/USA/LA-BIE-093/2020|EPI_ISL_436960|202...</td>\n",
       "      <td>S</td>\n",
       "      <td>613</td>\n",
       "      <td>D</td>\n",
       "      <td>G</td>\n",
       "    </tr>\n",
       "    <tr>\n",
       "      <th>...</th>\n",
       "      <td>...</td>\n",
       "      <td>...</td>\n",
       "      <td>...</td>\n",
       "      <td>...</td>\n",
       "      <td>...</td>\n",
       "    </tr>\n",
       "    <tr>\n",
       "      <th>171600</th>\n",
       "      <td>hCoV-19/Netherlands/Gelderland_44/2020|EPI_ISL...</td>\n",
       "      <td>S</td>\n",
       "      <td>613</td>\n",
       "      <td>D</td>\n",
       "      <td>G</td>\n",
       "    </tr>\n",
       "    <tr>\n",
       "      <th>171605</th>\n",
       "      <td>hCoV-19/Netherlands/Gelderland_45/2020|EPI_ISL...</td>\n",
       "      <td>S</td>\n",
       "      <td>613</td>\n",
       "      <td>D</td>\n",
       "      <td>G</td>\n",
       "    </tr>\n",
       "    <tr>\n",
       "      <th>171612</th>\n",
       "      <td>hCoV-19/Netherlands/Gelderland_46/2020|EPI_ISL...</td>\n",
       "      <td>S</td>\n",
       "      <td>613</td>\n",
       "      <td>D</td>\n",
       "      <td>G</td>\n",
       "    </tr>\n",
       "    <tr>\n",
       "      <th>171617</th>\n",
       "      <td>hCoV-19/Netherlands/Gelderland_47/2020|EPI_ISL...</td>\n",
       "      <td>S</td>\n",
       "      <td>613</td>\n",
       "      <td>D</td>\n",
       "      <td>G</td>\n",
       "    </tr>\n",
       "    <tr>\n",
       "      <th>171622</th>\n",
       "      <td>hCoV-19/Netherlands/Gelderland_48/2020|EPI_ISL...</td>\n",
       "      <td>S</td>\n",
       "      <td>613</td>\n",
       "      <td>D</td>\n",
       "      <td>G</td>\n",
       "    </tr>\n",
       "  </tbody>\n",
       "</table>\n",
       "<p>33887 rows × 5 columns</p>\n",
       "</div>"
      ],
      "text/plain": [
       "                                                    taxon gene  pos ref alt\n",
       "3       hCoV-19/USA/FL-BPHL-046/2020|EPI_ISL_436550|20...    S  613   D   G\n",
       "9       hCoV-19/USA/FL-BPHL-047/2020|EPI_ISL_436551|20...    S  613   D   G\n",
       "15      hCoV-19/USA/FL-BPHL-048/2020|EPI_ISL_436552|20...    S  613   D   G\n",
       "20      hCoV-19/USA/FL-BPHL-051/2020|EPI_ISL_436555|20...    S  613   D   G\n",
       "26      hCoV-19/USA/LA-BIE-093/2020|EPI_ISL_436960|202...    S  613   D   G\n",
       "...                                                   ...  ...  ...  ..  ..\n",
       "171600  hCoV-19/Netherlands/Gelderland_44/2020|EPI_ISL...    S  613   D   G\n",
       "171605  hCoV-19/Netherlands/Gelderland_45/2020|EPI_ISL...    S  613   D   G\n",
       "171612  hCoV-19/Netherlands/Gelderland_46/2020|EPI_ISL...    S  613   D   G\n",
       "171617  hCoV-19/Netherlands/Gelderland_47/2020|EPI_ISL...    S  613   D   G\n",
       "171622  hCoV-19/Netherlands/Gelderland_48/2020|EPI_ISL...    S  613   D   G\n",
       "\n",
       "[33887 rows x 5 columns]"
      ]
     },
     "execution_count": 6,
     "metadata": {},
     "output_type": "execute_result"
    }
   ],
   "source": [
    "# Get all AA SNPs on spike\n",
    "gene_snps = aa_snp_df.loc[aa_snp_df['gene'] == 'S', :]\n",
    "gene_snps"
   ]
  },
  {
   "cell_type": "code",
   "execution_count": 7,
   "metadata": {
    "ExecuteTime": {
     "end_time": "2020-06-09T21:01:04.238764Z",
     "start_time": "2020-06-09T21:01:04.206336Z"
    }
   },
   "outputs": [
    {
     "data": {
      "text/html": [
       "<div>\n",
       "<style scoped>\n",
       "    .dataframe tbody tr th:only-of-type {\n",
       "        vertical-align: middle;\n",
       "    }\n",
       "\n",
       "    .dataframe tbody tr th {\n",
       "        vertical-align: top;\n",
       "    }\n",
       "\n",
       "    .dataframe thead th {\n",
       "        text-align: right;\n",
       "    }\n",
       "</style>\n",
       "<table border=\"1\" class=\"dataframe\">\n",
       "  <thead>\n",
       "    <tr style=\"text-align: right;\">\n",
       "      <th></th>\n",
       "      <th></th>\n",
       "      <th></th>\n",
       "      <th>taxon</th>\n",
       "      <th>ind</th>\n",
       "    </tr>\n",
       "    <tr>\n",
       "      <th>pos</th>\n",
       "      <th>ref</th>\n",
       "      <th>alt</th>\n",
       "      <th></th>\n",
       "      <th></th>\n",
       "    </tr>\n",
       "  </thead>\n",
       "  <tbody>\n",
       "    <tr>\n",
       "      <th>4</th>\n",
       "      <th>L</th>\n",
       "      <th>F</th>\n",
       "      <td>246</td>\n",
       "      <td>0</td>\n",
       "    </tr>\n",
       "    <tr>\n",
       "      <th>7</th>\n",
       "      <th>L</th>\n",
       "      <th>V</th>\n",
       "      <td>30</td>\n",
       "      <td>1</td>\n",
       "    </tr>\n",
       "    <tr>\n",
       "      <th>17</th>\n",
       "      <th>L</th>\n",
       "      <th>F</th>\n",
       "      <td>95</td>\n",
       "      <td>2</td>\n",
       "    </tr>\n",
       "    <tr>\n",
       "      <th>20</th>\n",
       "      <th>R</th>\n",
       "      <th>I</th>\n",
       "      <td>153</td>\n",
       "      <td>3</td>\n",
       "    </tr>\n",
       "    <tr>\n",
       "      <th>21</th>\n",
       "      <th>T</th>\n",
       "      <th>I</th>\n",
       "      <td>14</td>\n",
       "      <td>4</td>\n",
       "    </tr>\n",
       "    <tr>\n",
       "      <th>...</th>\n",
       "      <th>...</th>\n",
       "      <th>...</th>\n",
       "      <td>...</td>\n",
       "      <td>...</td>\n",
       "    </tr>\n",
       "    <tr>\n",
       "      <th>1246</th>\n",
       "      <th>C</th>\n",
       "      <th>F</th>\n",
       "      <td>12</td>\n",
       "      <td>108</td>\n",
       "    </tr>\n",
       "    <tr>\n",
       "      <th>1251</th>\n",
       "      <th>S</th>\n",
       "      <th>P</th>\n",
       "      <td>43</td>\n",
       "      <td>109</td>\n",
       "    </tr>\n",
       "    <tr>\n",
       "      <th>1262</th>\n",
       "      <th>P</th>\n",
       "      <th>L</th>\n",
       "      <td>275</td>\n",
       "      <td>110</td>\n",
       "    </tr>\n",
       "    <tr>\n",
       "      <th>1263</th>\n",
       "      <th>V</th>\n",
       "      <th>L</th>\n",
       "      <td>11</td>\n",
       "      <td>111</td>\n",
       "    </tr>\n",
       "    <tr>\n",
       "      <th>1273</th>\n",
       "      <th>_</th>\n",
       "      <th>Q</th>\n",
       "      <td>13</td>\n",
       "      <td>112</td>\n",
       "    </tr>\n",
       "  </tbody>\n",
       "</table>\n",
       "<p>113 rows × 2 columns</p>\n",
       "</div>"
      ],
      "text/plain": [
       "              taxon  ind\n",
       "pos  ref alt            \n",
       "4    L   F      246    0\n",
       "7    L   V       30    1\n",
       "17   L   F       95    2\n",
       "20   R   I      153    3\n",
       "21   T   I       14    4\n",
       "...             ...  ...\n",
       "1246 C   F       12  108\n",
       "1251 S   P       43  109\n",
       "1262 P   L      275  110\n",
       "1263 V   L       11  111\n",
       "1273 _   Q       13  112\n",
       "\n",
       "[113 rows x 2 columns]"
      ]
     },
     "execution_count": 7,
     "metadata": {},
     "output_type": "execute_result"
    }
   ],
   "source": [
    "# Make a unique list of SNPs on spike\n",
    "gene_snp_map = gene_snps.groupby(['pos', 'ref', 'alt'], as_index=False)['taxon'].count()\n",
    "\n",
    "# Filter out low counts to make the matrix multiplication easier\n",
    "gene_snp_map = gene_snp_map.loc[gene_snp_map['taxon'] > 10].reset_index(drop=True)\n",
    "\n",
    "# Remove ambiguous AAs\n",
    "gene_snp_map = gene_snp_map.loc[gene_snp_map['alt'] != '*'].reset_index(drop=True)\n",
    "\n",
    "# Make index column\n",
    "gene_snp_map['ind'] = np.arange(0, len(gene_snp_map))\n",
    "# Set index for quick lookups\n",
    "gene_snp_map = gene_snp_map.set_index(['pos', 'ref', 'alt'])\n",
    "\n",
    "gene_snp_map"
   ]
  },
  {
   "cell_type": "code",
   "execution_count": 8,
   "metadata": {
    "ExecuteTime": {
     "end_time": "2020-06-09T21:01:04.553461Z",
     "start_time": "2020-06-09T21:01:04.549057Z"
    }
   },
   "outputs": [
    {
     "data": {
      "text/plain": [
       "57"
      ]
     },
     "execution_count": 8,
     "metadata": {},
     "output_type": "execute_result"
    }
   ],
   "source": [
    "gene_snp_map.loc[613, 'D', 'G']['ind']"
   ]
  },
  {
   "cell_type": "code",
   "execution_count": 9,
   "metadata": {
    "ExecuteTime": {
     "end_time": "2020-06-09T21:01:05.000162Z",
     "start_time": "2020-06-09T21:01:04.939088Z"
    }
   },
   "outputs": [
    {
     "name": "stderr",
     "output_type": "stream",
     "text": [
      "/Users/chena/miniconda3/envs/covid/lib/python3.6/site-packages/ipykernel_launcher.py:2: SettingWithCopyWarning: \n",
      "A value is trying to be set on a copy of a slice from a DataFrame.\n",
      "Try using .loc[row_indexer,col_indexer] = value instead\n",
      "\n",
      "See the caveats in the documentation: https://pandas.pydata.org/pandas-docs/stable/user_guide/indexing.html#returning-a-view-versus-a-copy\n",
      "  \n"
     ]
    },
    {
     "data": {
      "text/html": [
       "<div>\n",
       "<style scoped>\n",
       "    .dataframe tbody tr th:only-of-type {\n",
       "        vertical-align: middle;\n",
       "    }\n",
       "\n",
       "    .dataframe tbody tr th {\n",
       "        vertical-align: top;\n",
       "    }\n",
       "\n",
       "    .dataframe thead th {\n",
       "        text-align: right;\n",
       "    }\n",
       "</style>\n",
       "<table border=\"1\" class=\"dataframe\">\n",
       "  <thead>\n",
       "    <tr style=\"text-align: right;\">\n",
       "      <th></th>\n",
       "      <th>taxon</th>\n",
       "      <th>gene</th>\n",
       "      <th>pos</th>\n",
       "      <th>ref</th>\n",
       "      <th>alt</th>\n",
       "      <th>snp_str</th>\n",
       "    </tr>\n",
       "  </thead>\n",
       "  <tbody>\n",
       "    <tr>\n",
       "      <th>3</th>\n",
       "      <td>hCoV-19/USA/FL-BPHL-046/2020|EPI_ISL_436550|20...</td>\n",
       "      <td>S</td>\n",
       "      <td>613</td>\n",
       "      <td>D</td>\n",
       "      <td>G</td>\n",
       "      <td>613|D|G</td>\n",
       "    </tr>\n",
       "    <tr>\n",
       "      <th>9</th>\n",
       "      <td>hCoV-19/USA/FL-BPHL-047/2020|EPI_ISL_436551|20...</td>\n",
       "      <td>S</td>\n",
       "      <td>613</td>\n",
       "      <td>D</td>\n",
       "      <td>G</td>\n",
       "      <td>613|D|G</td>\n",
       "    </tr>\n",
       "    <tr>\n",
       "      <th>15</th>\n",
       "      <td>hCoV-19/USA/FL-BPHL-048/2020|EPI_ISL_436552|20...</td>\n",
       "      <td>S</td>\n",
       "      <td>613</td>\n",
       "      <td>D</td>\n",
       "      <td>G</td>\n",
       "      <td>613|D|G</td>\n",
       "    </tr>\n",
       "    <tr>\n",
       "      <th>20</th>\n",
       "      <td>hCoV-19/USA/FL-BPHL-051/2020|EPI_ISL_436555|20...</td>\n",
       "      <td>S</td>\n",
       "      <td>613</td>\n",
       "      <td>D</td>\n",
       "      <td>G</td>\n",
       "      <td>613|D|G</td>\n",
       "    </tr>\n",
       "    <tr>\n",
       "      <th>26</th>\n",
       "      <td>hCoV-19/USA/LA-BIE-093/2020|EPI_ISL_436960|202...</td>\n",
       "      <td>S</td>\n",
       "      <td>613</td>\n",
       "      <td>D</td>\n",
       "      <td>G</td>\n",
       "      <td>613|D|G</td>\n",
       "    </tr>\n",
       "    <tr>\n",
       "      <th>...</th>\n",
       "      <td>...</td>\n",
       "      <td>...</td>\n",
       "      <td>...</td>\n",
       "      <td>...</td>\n",
       "      <td>...</td>\n",
       "      <td>...</td>\n",
       "    </tr>\n",
       "    <tr>\n",
       "      <th>171600</th>\n",
       "      <td>hCoV-19/Netherlands/Gelderland_44/2020|EPI_ISL...</td>\n",
       "      <td>S</td>\n",
       "      <td>613</td>\n",
       "      <td>D</td>\n",
       "      <td>G</td>\n",
       "      <td>613|D|G</td>\n",
       "    </tr>\n",
       "    <tr>\n",
       "      <th>171605</th>\n",
       "      <td>hCoV-19/Netherlands/Gelderland_45/2020|EPI_ISL...</td>\n",
       "      <td>S</td>\n",
       "      <td>613</td>\n",
       "      <td>D</td>\n",
       "      <td>G</td>\n",
       "      <td>613|D|G</td>\n",
       "    </tr>\n",
       "    <tr>\n",
       "      <th>171612</th>\n",
       "      <td>hCoV-19/Netherlands/Gelderland_46/2020|EPI_ISL...</td>\n",
       "      <td>S</td>\n",
       "      <td>613</td>\n",
       "      <td>D</td>\n",
       "      <td>G</td>\n",
       "      <td>613|D|G</td>\n",
       "    </tr>\n",
       "    <tr>\n",
       "      <th>171617</th>\n",
       "      <td>hCoV-19/Netherlands/Gelderland_47/2020|EPI_ISL...</td>\n",
       "      <td>S</td>\n",
       "      <td>613</td>\n",
       "      <td>D</td>\n",
       "      <td>G</td>\n",
       "      <td>613|D|G</td>\n",
       "    </tr>\n",
       "    <tr>\n",
       "      <th>171622</th>\n",
       "      <td>hCoV-19/Netherlands/Gelderland_48/2020|EPI_ISL...</td>\n",
       "      <td>S</td>\n",
       "      <td>613</td>\n",
       "      <td>D</td>\n",
       "      <td>G</td>\n",
       "      <td>613|D|G</td>\n",
       "    </tr>\n",
       "  </tbody>\n",
       "</table>\n",
       "<p>33887 rows × 6 columns</p>\n",
       "</div>"
      ],
      "text/plain": [
       "                                                    taxon gene  pos ref alt  \\\n",
       "3       hCoV-19/USA/FL-BPHL-046/2020|EPI_ISL_436550|20...    S  613   D   G   \n",
       "9       hCoV-19/USA/FL-BPHL-047/2020|EPI_ISL_436551|20...    S  613   D   G   \n",
       "15      hCoV-19/USA/FL-BPHL-048/2020|EPI_ISL_436552|20...    S  613   D   G   \n",
       "20      hCoV-19/USA/FL-BPHL-051/2020|EPI_ISL_436555|20...    S  613   D   G   \n",
       "26      hCoV-19/USA/LA-BIE-093/2020|EPI_ISL_436960|202...    S  613   D   G   \n",
       "...                                                   ...  ...  ...  ..  ..   \n",
       "171600  hCoV-19/Netherlands/Gelderland_44/2020|EPI_ISL...    S  613   D   G   \n",
       "171605  hCoV-19/Netherlands/Gelderland_45/2020|EPI_ISL...    S  613   D   G   \n",
       "171612  hCoV-19/Netherlands/Gelderland_46/2020|EPI_ISL...    S  613   D   G   \n",
       "171617  hCoV-19/Netherlands/Gelderland_47/2020|EPI_ISL...    S  613   D   G   \n",
       "171622  hCoV-19/Netherlands/Gelderland_48/2020|EPI_ISL...    S  613   D   G   \n",
       "\n",
       "        snp_str  \n",
       "3       613|D|G  \n",
       "9       613|D|G  \n",
       "15      613|D|G  \n",
       "20      613|D|G  \n",
       "26      613|D|G  \n",
       "...         ...  \n",
       "171600  613|D|G  \n",
       "171605  613|D|G  \n",
       "171612  613|D|G  \n",
       "171617  613|D|G  \n",
       "171622  613|D|G  \n",
       "\n",
       "[33887 rows x 6 columns]"
      ]
     },
     "execution_count": 9,
     "metadata": {},
     "output_type": "execute_result"
    }
   ],
   "source": [
    "# Make a matrix, where rows = taxons and cols = SNP IDs\n",
    "gene_snps['snp_str'] = gene_snps['pos'].astype(str) + '|' + gene_snps['ref'] + '|' + gene_snps['alt']\n",
    "gene_snps"
   ]
  },
  {
   "cell_type": "code",
   "execution_count": 10,
   "metadata": {
    "ExecuteTime": {
     "end_time": "2020-06-09T21:01:07.626025Z",
     "start_time": "2020-06-09T21:01:05.308369Z"
    }
   },
   "outputs": [
    {
     "data": {
      "text/plain": [
       "taxon\n",
       "hCoV-10/Canada/AB5/2020|EPI_ISL_435347|2020-04                                                         [613|D|G]\n",
       "hCoV-19//Estonia/ChVir4266/2020|EPI_ISL_457722|2020-03                                                 [613|D|G]\n",
       "hCoV-19/Algeria/G0638_2264/2020|EPI_ISL_418241|2020-03-02                                              [613|D|G]\n",
       "hCoV-19/Algeria/G0640_2265/2020|EPI_ISL_418242|2020-03-08                                              [613|D|G]\n",
       "hCoV-19/Algeria/G0860_2262/2020|EPI_ISL_420037|2020-03-02                                              [613|D|G]\n",
       "                                                                                     ...                        \n",
       "hCoV-19/mouse/Harbin/HRB-26m/2020|EPI_ISL_459910|2020-04-19    [497|Q|H, 673|Y|_, 674|Q|K, 675|T|K, 676|Q|K, ...\n",
       "hCov-19/Canada/AG1/2020|EPI_ISL_435344|2020-04                                                         [613|D|G]\n",
       "hCov-19/Canada/AG6/2020|EPI_ISL_435343|2020-04                                                         [613|D|G]\n",
       "hCov-19/Oman/RESP-20-4153/2020|EPI_ISL_457988|2020-03-21                                               [613|D|G]\n",
       "hCov-19/USA/CT-Yale-072/2020|EPI_ISL_428400|2020-03-30                                                 [613|D|G]\n",
       "Name: snp_str, Length: 28169, dtype: object"
      ]
     },
     "execution_count": 10,
     "metadata": {},
     "output_type": "execute_result"
    }
   ],
   "source": [
    "gene_snp_list = gene_snps.groupby('taxon')['snp_str'].agg(list)\n",
    "gene_snp_list"
   ]
  },
  {
   "cell_type": "code",
   "execution_count": 11,
   "metadata": {
    "ExecuteTime": {
     "end_time": "2020-06-09T21:01:14.359793Z",
     "start_time": "2020-06-09T21:01:07.940057Z"
    }
   },
   "outputs": [
    {
     "name": "stdout",
     "output_type": "stream",
     "text": [
      "0\n",
      "1000\n",
      "2000\n",
      "3000\n",
      "4000\n",
      "5000\n",
      "6000\n",
      "7000\n",
      "8000\n",
      "9000\n",
      "10000\n",
      "11000\n",
      "12000\n",
      "13000\n",
      "14000\n",
      "15000\n",
      "16000\n",
      "17000\n",
      "18000\n",
      "19000\n",
      "20000\n",
      "21000\n",
      "22000\n",
      "23000\n",
      "24000\n",
      "25000\n",
      "26000\n",
      "27000\n",
      "28000\n"
     ]
    },
    {
     "data": {
      "text/plain": [
       "array([[0., 0., 0., ..., 0., 0., 0.],\n",
       "       [0., 0., 0., ..., 0., 0., 0.],\n",
       "       [0., 0., 0., ..., 0., 0., 0.],\n",
       "       ...,\n",
       "       [0., 0., 0., ..., 0., 0., 0.],\n",
       "       [0., 0., 0., ..., 0., 0., 0.],\n",
       "       [0., 0., 0., ..., 0., 0., 0.]])"
      ]
     },
     "execution_count": 11,
     "metadata": {},
     "output_type": "execute_result"
    }
   ],
   "source": [
    "snp_mat = np.zeros((len(gene_snp_list), len(gene_snp_map)))\n",
    "\n",
    "for i, snp_list in enumerate(gene_snp_list.values):\n",
    "    if i % 1000 == 0:\n",
    "        print(i)\n",
    "    for snp in snp_list:\n",
    "        if type(snp) is not str:\n",
    "            continue\n",
    "        snp_split = snp.split('|')\n",
    "        \n",
    "        try:\n",
    "            snp_ind = gene_snp_map.loc[int(snp_split[0]), snp_split[1], snp_split[2]]['ind']\n",
    "            snp_mat[i, snp_ind] = 1\n",
    "        except:\n",
    "            continue\n",
    "snp_mat"
   ]
  },
  {
   "cell_type": "code",
   "execution_count": 12,
   "metadata": {
    "ExecuteTime": {
     "end_time": "2020-06-09T21:01:14.647631Z",
     "start_time": "2020-06-09T21:01:14.644375Z"
    }
   },
   "outputs": [
    {
     "data": {
      "text/plain": [
       "(28169, 113)"
      ]
     },
     "execution_count": 12,
     "metadata": {},
     "output_type": "execute_result"
    }
   ],
   "source": [
    "snp_mat.shape"
   ]
  },
  {
   "cell_type": "code",
   "execution_count": 13,
   "metadata": {
    "ExecuteTime": {
     "end_time": "2020-06-09T21:01:15.131262Z",
     "start_time": "2020-06-09T21:01:14.970401Z"
    }
   },
   "outputs": [],
   "source": [
    "from scipy.cluster.hierarchy import linkage, fcluster"
   ]
  },
  {
   "cell_type": "code",
   "execution_count": 14,
   "metadata": {
    "ExecuteTime": {
     "end_time": "2020-06-09T21:02:15.424272Z",
     "start_time": "2020-06-09T21:01:15.418646Z"
    }
   },
   "outputs": [
    {
     "data": {
      "text/plain": [
       "array([[0.00000000e+00, 1.00000000e+00, 0.00000000e+00, 2.00000000e+00],\n",
       "       [2.00000000e+00, 2.81690000e+04, 0.00000000e+00, 3.00000000e+00],\n",
       "       [3.00000000e+00, 2.81700000e+04, 0.00000000e+00, 4.00000000e+00],\n",
       "       ...,\n",
       "       [9.59500000e+03, 5.63330000e+04, 1.00000000e+00, 2.10000000e+01],\n",
       "       [5.63300000e+04, 5.63340000e+04, 1.41421356e+00, 2.81580000e+04],\n",
       "       [5.61060000e+04, 5.63350000e+04, 1.41421356e+00, 2.81690000e+04]])"
      ]
     },
     "execution_count": 14,
     "metadata": {},
     "output_type": "execute_result"
    }
   ],
   "source": [
    "lnk = linkage(snp_mat)\n",
    "lnk"
   ]
  },
  {
   "cell_type": "code",
   "execution_count": 15,
   "metadata": {
    "ExecuteTime": {
     "end_time": "2020-06-09T21:02:15.850074Z",
     "start_time": "2020-06-09T21:02:15.716959Z"
    }
   },
   "outputs": [
    {
     "data": {
      "text/plain": [
       "array([174, 174, 174, ..., 174, 174, 174], dtype=int32)"
      ]
     },
     "execution_count": 15,
     "metadata": {},
     "output_type": "execute_result"
    }
   ],
   "source": [
    "clust = fcluster(lnk, 1)\n",
    "clust"
   ]
  },
  {
   "cell_type": "code",
   "execution_count": 16,
   "metadata": {
    "ExecuteTime": {
     "end_time": "2020-06-09T21:02:16.221280Z",
     "start_time": "2020-06-09T21:02:16.211037Z"
    }
   },
   "outputs": [
    {
     "data": {
      "text/plain": [
       "array([  1,   2,   3,   4,   5,   6,   7,   8,   9,  10,  11,  12,  13,\n",
       "        14,  15,  16,  17,  18,  19,  20,  21,  22,  23,  24,  25,  26,\n",
       "        27,  28,  29,  30,  31,  32,  33,  34,  35,  36,  37,  38,  39,\n",
       "        40,  41,  42,  43,  44,  45,  46,  47,  48,  49,  50,  51,  52,\n",
       "        53,  54,  55,  56,  57,  58,  59,  60,  61,  62,  63,  64,  65,\n",
       "        66,  67,  68,  69,  70,  71,  72,  73,  74,  75,  76,  77,  78,\n",
       "        79,  80,  81,  82,  83,  84,  85,  86,  87,  88,  89,  90,  91,\n",
       "        92,  93,  94,  95,  96,  97,  98,  99, 100, 101, 102, 103, 104,\n",
       "       105, 106, 107, 108, 109, 110, 111, 112, 113, 114, 115, 116, 117,\n",
       "       118, 119, 120, 121, 122, 123, 124, 125, 126, 127, 128, 129, 130,\n",
       "       131, 132, 133, 134, 135, 136, 137, 138, 139, 140, 141, 142, 143,\n",
       "       144, 145, 146, 147, 148, 149, 150, 151, 152, 153, 154, 155, 156,\n",
       "       157, 158, 159, 160, 161, 162, 163, 164, 165, 166, 167, 168, 169,\n",
       "       170, 171, 172, 173, 174, 175, 176, 177, 178, 179, 180, 181, 182,\n",
       "       183, 184, 185, 186, 187, 188, 189, 190, 191, 192, 193, 194, 195,\n",
       "       196, 197, 198, 199, 200, 201, 202, 203, 204, 205, 206, 207, 208,\n",
       "       209, 210, 211, 212, 213, 214, 215, 216, 217, 218, 219, 220, 221,\n",
       "       222, 223, 224, 225, 226, 227, 228, 229, 230, 231], dtype=int32)"
      ]
     },
     "execution_count": 16,
     "metadata": {},
     "output_type": "execute_result"
    }
   ],
   "source": [
    "np.unique(clust)"
   ]
  },
  {
   "cell_type": "code",
   "execution_count": 17,
   "metadata": {
    "ExecuteTime": {
     "end_time": "2020-06-09T21:02:16.582740Z",
     "start_time": "2020-06-09T21:02:16.575899Z"
    }
   },
   "outputs": [
    {
     "data": {
      "text/plain": [
       "28169"
      ]
     },
     "execution_count": 17,
     "metadata": {},
     "output_type": "execute_result"
    }
   ],
   "source": [
    "len(clust)"
   ]
  },
  {
   "cell_type": "code",
   "execution_count": 18,
   "metadata": {
    "ExecuteTime": {
     "end_time": "2020-06-09T21:02:16.980027Z",
     "start_time": "2020-06-09T21:02:16.964577Z"
    }
   },
   "outputs": [
    {
     "data": {
      "text/html": [
       "<div>\n",
       "<style scoped>\n",
       "    .dataframe tbody tr th:only-of-type {\n",
       "        vertical-align: middle;\n",
       "    }\n",
       "\n",
       "    .dataframe tbody tr th {\n",
       "        vertical-align: top;\n",
       "    }\n",
       "\n",
       "    .dataframe thead th {\n",
       "        text-align: right;\n",
       "    }\n",
       "</style>\n",
       "<table border=\"1\" class=\"dataframe\">\n",
       "  <thead>\n",
       "    <tr style=\"text-align: right;\">\n",
       "      <th></th>\n",
       "      <th>snp_str</th>\n",
       "      <th>cluster</th>\n",
       "    </tr>\n",
       "    <tr>\n",
       "      <th>taxon</th>\n",
       "      <th></th>\n",
       "      <th></th>\n",
       "    </tr>\n",
       "  </thead>\n",
       "  <tbody>\n",
       "    <tr>\n",
       "      <th>hCoV-10/Canada/AB5/2020|EPI_ISL_435347|2020-04</th>\n",
       "      <td>[613|D|G]</td>\n",
       "      <td>174</td>\n",
       "    </tr>\n",
       "    <tr>\n",
       "      <th>hCoV-19//Estonia/ChVir4266/2020|EPI_ISL_457722|2020-03</th>\n",
       "      <td>[613|D|G]</td>\n",
       "      <td>174</td>\n",
       "    </tr>\n",
       "    <tr>\n",
       "      <th>hCoV-19/Algeria/G0638_2264/2020|EPI_ISL_418241|2020-03-02</th>\n",
       "      <td>[613|D|G]</td>\n",
       "      <td>174</td>\n",
       "    </tr>\n",
       "    <tr>\n",
       "      <th>hCoV-19/Algeria/G0640_2265/2020|EPI_ISL_418242|2020-03-08</th>\n",
       "      <td>[613|D|G]</td>\n",
       "      <td>174</td>\n",
       "    </tr>\n",
       "    <tr>\n",
       "      <th>hCoV-19/Algeria/G0860_2262/2020|EPI_ISL_420037|2020-03-02</th>\n",
       "      <td>[613|D|G]</td>\n",
       "      <td>174</td>\n",
       "    </tr>\n",
       "    <tr>\n",
       "      <th>...</th>\n",
       "      <td>...</td>\n",
       "      <td>...</td>\n",
       "    </tr>\n",
       "    <tr>\n",
       "      <th>hCoV-19/mouse/Harbin/HRB-26m/2020|EPI_ISL_459910|2020-04-19</th>\n",
       "      <td>[497|Q|H, 673|Y|_, 674|Q|K, 675|T|K, 676|Q|K, ...</td>\n",
       "      <td>173</td>\n",
       "    </tr>\n",
       "    <tr>\n",
       "      <th>hCov-19/Canada/AG1/2020|EPI_ISL_435344|2020-04</th>\n",
       "      <td>[613|D|G]</td>\n",
       "      <td>174</td>\n",
       "    </tr>\n",
       "    <tr>\n",
       "      <th>hCov-19/Canada/AG6/2020|EPI_ISL_435343|2020-04</th>\n",
       "      <td>[613|D|G]</td>\n",
       "      <td>174</td>\n",
       "    </tr>\n",
       "    <tr>\n",
       "      <th>hCov-19/Oman/RESP-20-4153/2020|EPI_ISL_457988|2020-03-21</th>\n",
       "      <td>[613|D|G]</td>\n",
       "      <td>174</td>\n",
       "    </tr>\n",
       "    <tr>\n",
       "      <th>hCov-19/USA/CT-Yale-072/2020|EPI_ISL_428400|2020-03-30</th>\n",
       "      <td>[613|D|G]</td>\n",
       "      <td>174</td>\n",
       "    </tr>\n",
       "  </tbody>\n",
       "</table>\n",
       "<p>28169 rows × 2 columns</p>\n",
       "</div>"
      ],
      "text/plain": [
       "                                                                                              snp_str  \\\n",
       "taxon                                                                                                   \n",
       "hCoV-10/Canada/AB5/2020|EPI_ISL_435347|2020-04                                              [613|D|G]   \n",
       "hCoV-19//Estonia/ChVir4266/2020|EPI_ISL_457722|...                                          [613|D|G]   \n",
       "hCoV-19/Algeria/G0638_2264/2020|EPI_ISL_418241|...                                          [613|D|G]   \n",
       "hCoV-19/Algeria/G0640_2265/2020|EPI_ISL_418242|...                                          [613|D|G]   \n",
       "hCoV-19/Algeria/G0860_2262/2020|EPI_ISL_420037|...                                          [613|D|G]   \n",
       "...                                                                                               ...   \n",
       "hCoV-19/mouse/Harbin/HRB-26m/2020|EPI_ISL_45991...  [497|Q|H, 673|Y|_, 674|Q|K, 675|T|K, 676|Q|K, ...   \n",
       "hCov-19/Canada/AG1/2020|EPI_ISL_435344|2020-04                                              [613|D|G]   \n",
       "hCov-19/Canada/AG6/2020|EPI_ISL_435343|2020-04                                              [613|D|G]   \n",
       "hCov-19/Oman/RESP-20-4153/2020|EPI_ISL_457988|2...                                          [613|D|G]   \n",
       "hCov-19/USA/CT-Yale-072/2020|EPI_ISL_428400|202...                                          [613|D|G]   \n",
       "\n",
       "                                                    cluster  \n",
       "taxon                                                        \n",
       "hCoV-10/Canada/AB5/2020|EPI_ISL_435347|2020-04          174  \n",
       "hCoV-19//Estonia/ChVir4266/2020|EPI_ISL_457722|...      174  \n",
       "hCoV-19/Algeria/G0638_2264/2020|EPI_ISL_418241|...      174  \n",
       "hCoV-19/Algeria/G0640_2265/2020|EPI_ISL_418242|...      174  \n",
       "hCoV-19/Algeria/G0860_2262/2020|EPI_ISL_420037|...      174  \n",
       "...                                                     ...  \n",
       "hCoV-19/mouse/Harbin/HRB-26m/2020|EPI_ISL_45991...      173  \n",
       "hCov-19/Canada/AG1/2020|EPI_ISL_435344|2020-04          174  \n",
       "hCov-19/Canada/AG6/2020|EPI_ISL_435343|2020-04          174  \n",
       "hCov-19/Oman/RESP-20-4153/2020|EPI_ISL_457988|2...      174  \n",
       "hCov-19/USA/CT-Yale-072/2020|EPI_ISL_428400|202...      174  \n",
       "\n",
       "[28169 rows x 2 columns]"
      ]
     },
     "execution_count": 18,
     "metadata": {},
     "output_type": "execute_result"
    }
   ],
   "source": [
    "taxon_cluster = pd.DataFrame(gene_snp_list)\n",
    "taxon_cluster['cluster'] = clust\n",
    "taxon_cluster"
   ]
  },
  {
   "cell_type": "code",
   "execution_count": 19,
   "metadata": {
    "ExecuteTime": {
     "end_time": "2020-06-09T21:02:17.468063Z",
     "start_time": "2020-06-09T21:02:17.440927Z"
    }
   },
   "outputs": [
    {
     "data": {
      "text/html": [
       "<div>\n",
       "<style scoped>\n",
       "    .dataframe tbody tr th:only-of-type {\n",
       "        vertical-align: middle;\n",
       "    }\n",
       "\n",
       "    .dataframe tbody tr th {\n",
       "        vertical-align: top;\n",
       "    }\n",
       "\n",
       "    .dataframe thead th {\n",
       "        text-align: right;\n",
       "    }\n",
       "</style>\n",
       "<table border=\"1\" class=\"dataframe\">\n",
       "  <thead>\n",
       "    <tr style=\"text-align: right;\">\n",
       "      <th></th>\n",
       "      <th>snp_str</th>\n",
       "      <th>cluster</th>\n",
       "    </tr>\n",
       "    <tr>\n",
       "      <th>taxon</th>\n",
       "      <th></th>\n",
       "      <th></th>\n",
       "    </tr>\n",
       "  </thead>\n",
       "  <tbody>\n",
       "    <tr>\n",
       "      <th>hCoV-19/England/CAMB-76C3E/2020|EPI_ISL_438285|2020-03-29</th>\n",
       "      <td>[50|T|I, 53|L|F, 613|D|G, 1103|V|L]</td>\n",
       "      <td>1</td>\n",
       "    </tr>\n",
       "    <tr>\n",
       "      <th>hCoV-19/England/CAMB-7667C/2020|EPI_ISL_439394|2020-03-29</th>\n",
       "      <td>[50|T|I, 53|L|F, 613|D|G, 1103|V|L]</td>\n",
       "      <td>1</td>\n",
       "    </tr>\n",
       "    <tr>\n",
       "      <th>hCoV-19/England/NORW-EB5DF/2020|EPI_ISL_457446|2020-05-01</th>\n",
       "      <td>[50|T|I, 53|L|F, 613|D|G, 1103|V|L]</td>\n",
       "      <td>1</td>\n",
       "    </tr>\n",
       "    <tr>\n",
       "      <th>hCoV-19/England/NORW-EB50C/2020|EPI_ISL_457439|2020-05-01</th>\n",
       "      <td>[50|T|I, 53|L|F, 613|D|G, 1103|V|L]</td>\n",
       "      <td>1</td>\n",
       "    </tr>\n",
       "    <tr>\n",
       "      <th>hCoV-19/England/CAMB-7668B/2020|EPI_ISL_438490|2020-03-30</th>\n",
       "      <td>[50|T|I, 53|L|F, 613|D|G, 1103|V|L]</td>\n",
       "      <td>1</td>\n",
       "    </tr>\n",
       "    <tr>\n",
       "      <th>...</th>\n",
       "      <td>...</td>\n",
       "      <td>...</td>\n",
       "    </tr>\n",
       "    <tr>\n",
       "      <th>hCoV-19/England/CAMB-1AF66A/2020|EPI_ISL_448089|2020-05-06</th>\n",
       "      <td>[140|L|F, 141|G|F, 142|V|F, 143|Y|F, 613|D|G]</td>\n",
       "      <td>229</td>\n",
       "    </tr>\n",
       "    <tr>\n",
       "      <th>hCoV-19/England/NORW-EC3E3/2020|EPI_ISL_457522|2020-05-12</th>\n",
       "      <td>[140|L|F, 141|G|F, 142|V|F, 143|Y|F, 613|D|G]</td>\n",
       "      <td>229</td>\n",
       "    </tr>\n",
       "    <tr>\n",
       "      <th>hCoV-19/USA/CA-SR0187/2020|EPI_ISL_437593|2020-03-25</th>\n",
       "      <td>[140|L|F, 141|G|F, 142|V|F, 143|Y|F, 613|D|G]</td>\n",
       "      <td>229</td>\n",
       "    </tr>\n",
       "    <tr>\n",
       "      <th>hCoV-19/England/CAMB-7EF88/2020|EPI_ISL_442929|2020-04-08</th>\n",
       "      <td>[140|L|F, 141|G|F, 613|D|G]</td>\n",
       "      <td>230</td>\n",
       "    </tr>\n",
       "    <tr>\n",
       "      <th>hCoV-19/England/LIVE-9F570/2020|EPI_ISL_457264|2020-05-07</th>\n",
       "      <td>[75|T|I, 140|L|F, 141|G|F, 142|V|F, 143|Y|F, 6...</td>\n",
       "      <td>231</td>\n",
       "    </tr>\n",
       "  </tbody>\n",
       "</table>\n",
       "<p>28169 rows × 2 columns</p>\n",
       "</div>"
      ],
      "text/plain": [
       "                                                                                              snp_str  \\\n",
       "taxon                                                                                                   \n",
       "hCoV-19/England/CAMB-76C3E/2020|EPI_ISL_438285|...                [50|T|I, 53|L|F, 613|D|G, 1103|V|L]   \n",
       "hCoV-19/England/CAMB-7667C/2020|EPI_ISL_439394|...                [50|T|I, 53|L|F, 613|D|G, 1103|V|L]   \n",
       "hCoV-19/England/NORW-EB5DF/2020|EPI_ISL_457446|...                [50|T|I, 53|L|F, 613|D|G, 1103|V|L]   \n",
       "hCoV-19/England/NORW-EB50C/2020|EPI_ISL_457439|...                [50|T|I, 53|L|F, 613|D|G, 1103|V|L]   \n",
       "hCoV-19/England/CAMB-7668B/2020|EPI_ISL_438490|...                [50|T|I, 53|L|F, 613|D|G, 1103|V|L]   \n",
       "...                                                                                               ...   \n",
       "hCoV-19/England/CAMB-1AF66A/2020|EPI_ISL_448089...      [140|L|F, 141|G|F, 142|V|F, 143|Y|F, 613|D|G]   \n",
       "hCoV-19/England/NORW-EC3E3/2020|EPI_ISL_457522|...      [140|L|F, 141|G|F, 142|V|F, 143|Y|F, 613|D|G]   \n",
       "hCoV-19/USA/CA-SR0187/2020|EPI_ISL_437593|2020-...      [140|L|F, 141|G|F, 142|V|F, 143|Y|F, 613|D|G]   \n",
       "hCoV-19/England/CAMB-7EF88/2020|EPI_ISL_442929|...                        [140|L|F, 141|G|F, 613|D|G]   \n",
       "hCoV-19/England/LIVE-9F570/2020|EPI_ISL_457264|...  [75|T|I, 140|L|F, 141|G|F, 142|V|F, 143|Y|F, 6...   \n",
       "\n",
       "                                                    cluster  \n",
       "taxon                                                        \n",
       "hCoV-19/England/CAMB-76C3E/2020|EPI_ISL_438285|...        1  \n",
       "hCoV-19/England/CAMB-7667C/2020|EPI_ISL_439394|...        1  \n",
       "hCoV-19/England/NORW-EB5DF/2020|EPI_ISL_457446|...        1  \n",
       "hCoV-19/England/NORW-EB50C/2020|EPI_ISL_457439|...        1  \n",
       "hCoV-19/England/CAMB-7668B/2020|EPI_ISL_438490|...        1  \n",
       "...                                                     ...  \n",
       "hCoV-19/England/CAMB-1AF66A/2020|EPI_ISL_448089...      229  \n",
       "hCoV-19/England/NORW-EC3E3/2020|EPI_ISL_457522|...      229  \n",
       "hCoV-19/USA/CA-SR0187/2020|EPI_ISL_437593|2020-...      229  \n",
       "hCoV-19/England/CAMB-7EF88/2020|EPI_ISL_442929|...      230  \n",
       "hCoV-19/England/LIVE-9F570/2020|EPI_ISL_457264|...      231  \n",
       "\n",
       "[28169 rows x 2 columns]"
      ]
     },
     "execution_count": 19,
     "metadata": {},
     "output_type": "execute_result"
    }
   ],
   "source": [
    "taxon_cluster.sort_values('cluster')"
   ]
  },
  {
   "cell_type": "code",
   "execution_count": 20,
   "metadata": {
    "ExecuteTime": {
     "end_time": "2020-06-09T21:02:17.946508Z",
     "start_time": "2020-06-09T21:02:17.943934Z"
    }
   },
   "outputs": [],
   "source": [
    "spike_aa = 'MFVFLVLLPLVSSQCVNLTTRTQLPPAYTNSFTRGVYYPDKVFRSSVLHSTQDLFLPFFSNVTWFHAIHVSGTNGTKRFDNPVLPFNDGVYFASTEKSNIIRGWIFGTTLDSKTQSLLIVNNATNVVIKVCEFQFCNDPFLGVYYHKNNKSWMESEFRVYSSANNCTFEYVSQPFLMDLEGKQGNFKNLREFVFKNIDGYFKIYSKHTPINLVRDLPQGFSALEPLVDLPIGINITRFQTLLALHRSYLTPGDSSSGWTAGAAAYYVGYLQPRTFLLKYNENGTITDAVDCALDPLSETKCTLKSFTVEKGIYQTSNFRVQPTESIVRFPNITNLCPFGEVFNATRFASVYAWNRKRISNCVADYSVLYNSASFSTFKCYGVSPTKLNDLCFTNVYADSFVIRGDEVRQIAPGQTGKIADYNYKLPDDFTGCVIAWNSNNLDSKVGGNYNYLYRLFRKSNLKPFERDISTEIYQAGSTPCNGVEGFNCYFPLQSYGFQPTNGVGYQPYRVVVLSFELLHAPATVCGPKKSTNLVKNKCVNFNFNGLTGTGVLTESNKKFLPFQQFGRDIADTTDAVRDPQTLEILDITPCSFGGVSVITPGTNTSNQVAVLYQDVNCTEVPVAIHADQLTPTWRVYSTGSNVFQTRAGCLIGAEHVNNSYECDIPIGAGICASYQTQTNSPRRARSVASQSIIAYTMSLGAENSVAYSNNSIAIPTNFTISVTTEILPVSMTKTSVDCTMYICGDSTECSNLLLQYGSFCTQLNRALTGIAVEQDKNTQEVFAQVKQIYKTPPIKDFGGFNFSQILPDPSKPSKRSFIEDLLFNKVTLADAGFIKQYGDCLGDIAARDLICAQKFNGLTVLPPLLTDEMIAQYTSALLAGTITSGWTFGAGAALQIPFAMQMAYRFNGIGVTQNVLYENQKLIANQFNSAIGKIQDSLSSTASALGKLQDVVNQNAQALNTLVKQLSSNFGAISSVLNDILSRLDKVEAEVQIDRLITGRLQSLQTYVTQQLIRAAEIRASANLAATKMSECVLGQSKRVDFCGKGYHLMSFPQSAPHGVVFLHVTYVPAQEKNFTTAPAICHDGKAHFPREGVFVSNGTHWFVTQRNFYEPQIITTDNTFVSGNCDVVIGIVNNTVYDPLQPELDSFKEELDKYFKNHTSPDVDLGDISGINASVVNIQKEIDRLNEVAKNLNESLIDLQELGKYEQYIKWPWYIWLGFIAGLIAIVMVTIMLCCMTSCCSCLKGCCSCGSCCKFDEDDSEPVLKGVKLHYT_'"
   ]
  },
  {
   "cell_type": "code",
   "execution_count": 21,
   "metadata": {
    "ExecuteTime": {
     "end_time": "2020-06-09T21:02:19.387844Z",
     "start_time": "2020-06-09T21:02:18.348276Z"
    }
   },
   "outputs": [],
   "source": [
    "import seaborn as sns\n",
    "import matplotlib.pyplot as plt"
   ]
  },
  {
   "cell_type": "code",
   "execution_count": 22,
   "metadata": {
    "ExecuteTime": {
     "end_time": "2020-06-09T21:02:19.740582Z",
     "start_time": "2020-06-09T21:02:19.735315Z"
    }
   },
   "outputs": [],
   "source": [
    "# plt.matshow(np.array([['A', 'B', 'C'], ['A', 'B', 'C'], ['A', 'A', 'A']]))"
   ]
  },
  {
   "cell_type": "code",
   "execution_count": 23,
   "metadata": {
    "ExecuteTime": {
     "end_time": "2020-06-09T21:02:20.108844Z",
     "start_time": "2020-06-09T21:02:20.103609Z"
    },
    "scrolled": true
   },
   "outputs": [
    {
     "data": {
      "text/plain": [
       "array([[[0., 0., 0.],\n",
       "        [0., 0., 0.],\n",
       "        [0., 0., 0.],\n",
       "        [0., 0., 0.],\n",
       "        [0., 0., 0.]],\n",
       "\n",
       "       [[0., 0., 0.],\n",
       "        [0., 0., 0.],\n",
       "        [0., 0., 0.],\n",
       "        [0., 0., 0.],\n",
       "        [0., 0., 0.]],\n",
       "\n",
       "       [[0., 0., 0.],\n",
       "        [0., 0., 0.],\n",
       "        [0., 0., 0.],\n",
       "        [0., 0., 0.],\n",
       "        [0., 0., 0.]],\n",
       "\n",
       "       [[0., 0., 0.],\n",
       "        [0., 0., 0.],\n",
       "        [0., 0., 0.],\n",
       "        [0., 0., 0.],\n",
       "        [0., 0., 0.]],\n",
       "\n",
       "       [[0., 0., 0.],\n",
       "        [0., 0., 0.],\n",
       "        [0., 0., 0.],\n",
       "        [0., 0., 0.],\n",
       "        [0., 0., 0.]],\n",
       "\n",
       "       [[0., 0., 0.],\n",
       "        [0., 0., 0.],\n",
       "        [0., 0., 0.],\n",
       "        [0., 0., 0.],\n",
       "        [0., 0., 0.]],\n",
       "\n",
       "       [[0., 0., 0.],\n",
       "        [0., 0., 0.],\n",
       "        [0., 0., 0.],\n",
       "        [0., 0., 0.],\n",
       "        [0., 0., 0.]],\n",
       "\n",
       "       [[0., 0., 0.],\n",
       "        [0., 0., 0.],\n",
       "        [0., 0., 0.],\n",
       "        [0., 0., 0.],\n",
       "        [0., 0., 0.]],\n",
       "\n",
       "       [[0., 0., 0.],\n",
       "        [0., 0., 0.],\n",
       "        [0., 0., 0.],\n",
       "        [0., 0., 0.],\n",
       "        [0., 0., 0.]],\n",
       "\n",
       "       [[0., 0., 0.],\n",
       "        [0., 0., 0.],\n",
       "        [0., 0., 0.],\n",
       "        [0., 0., 0.],\n",
       "        [0., 0., 0.]]])"
      ]
     },
     "execution_count": 23,
     "metadata": {},
     "output_type": "execute_result"
    }
   ],
   "source": [
    "np.zeros((10, 5, 3))"
   ]
  },
  {
   "cell_type": "code",
   "execution_count": 24,
   "metadata": {
    "ExecuteTime": {
     "end_time": "2020-06-09T21:02:20.449262Z",
     "start_time": "2020-06-09T21:02:20.443181Z"
    }
   },
   "outputs": [
    {
     "data": {
      "text/plain": [
       "{'R': '#E60606',\n",
       " 'K': '#C64200',\n",
       " 'Q': '#FF6600',\n",
       " 'N': '#CCFF99',\n",
       " 'E': '#FFCC00',\n",
       " 'D': '#FFCC99',\n",
       " 'H': '#FFFF99',\n",
       " 'P': '#FFFF00',\n",
       " 'Y': '#CCFFCC',\n",
       " 'W': '#00FF00',\n",
       " 'S': '#FF9900',\n",
       " 'T': '#00FF99',\n",
       " 'G': '#CC99FF',\n",
       " 'A': '#CCFFFF',\n",
       " 'M': '#99CCFF',\n",
       " 'C': '#00FFFF',\n",
       " 'F': '#00CCFF',\n",
       " 'L': '#3366FF',\n",
       " 'V': '#0000FF',\n",
       " 'I': '#000080',\n",
       " '_': '#FF0000'}"
      ]
     },
     "execution_count": 24,
     "metadata": {},
     "output_type": "execute_result"
    }
   ],
   "source": [
    "shing_aa_colors = {\n",
    "    'R': '#E60606',\n",
    "    'K': '#C64200',\n",
    "    'Q': '#FF6600',\n",
    "    'N': '#CCFF99',\n",
    "    'E': '#FFCC00',\n",
    "    'D': '#FFCC99',\n",
    "    'H': '#FFFF99',\n",
    "    'P': '#FFFF00',\n",
    "    'Y': '#CCFFCC',\n",
    "    'W': '#00FF00',\n",
    "    'S': '#FF9900',\n",
    "    'T': '#00FF99',\n",
    "    'G': '#CC99FF',\n",
    "    'A': '#CCFFFF',\n",
    "    'M': '#99CCFF',\n",
    "    'C': '#00FFFF',\n",
    "    'F': '#00CCFF',\n",
    "    'L': '#3366FF',\n",
    "    'V': '#0000FF',\n",
    "    'I': '#000080',\n",
    "    '_': '#FF0000'\n",
    "}\n",
    "shing_aa_colors"
   ]
  },
  {
   "cell_type": "code",
   "execution_count": 25,
   "metadata": {
    "ExecuteTime": {
     "end_time": "2020-06-09T21:02:20.788996Z",
     "start_time": "2020-06-09T21:02:20.782882Z"
    }
   },
   "outputs": [
    {
     "data": {
      "text/plain": [
       "{'R': (0.9019607843137255, 0.023529411764705882, 0.023529411764705882),\n",
       " 'K': (0.7764705882352941, 0.25882352941176473, 0.0),\n",
       " 'Q': (1.0, 0.4, 0.0),\n",
       " 'N': (0.8, 1.0, 0.6),\n",
       " 'E': (1.0, 0.8, 0.0),\n",
       " 'D': (1.0, 0.8, 0.6),\n",
       " 'H': (1.0, 1.0, 0.6),\n",
       " 'P': (1.0, 1.0, 0.0),\n",
       " 'Y': (0.8, 1.0, 0.8),\n",
       " 'W': (0.0, 1.0, 0.0),\n",
       " 'S': (1.0, 0.6, 0.0),\n",
       " 'T': (0.0, 1.0, 0.6),\n",
       " 'G': (0.8, 0.6, 1.0),\n",
       " 'A': (0.8, 1.0, 1.0),\n",
       " 'M': (0.6, 0.8, 1.0),\n",
       " 'C': (0.0, 1.0, 1.0),\n",
       " 'F': (0.0, 0.8, 1.0),\n",
       " 'L': (0.2, 0.4, 1.0),\n",
       " 'V': (0.0, 0.0, 1.0),\n",
       " 'I': (0.0, 0.0, 0.5019607843137255),\n",
       " '_': (1.0, 0.0, 0.0)}"
      ]
     },
     "execution_count": 25,
     "metadata": {},
     "output_type": "execute_result"
    }
   ],
   "source": [
    "# Convert hex into RGB\n",
    "shing_aa_colors_rgb = {}\n",
    "for res, hexcode in shing_aa_colors.items():\n",
    "    # Chop off pound\n",
    "    hexcode = hexcode[1:]\n",
    "    shing_aa_colors_rgb[res] = tuple([\n",
    "        # Get slice and convert to float\n",
    "        int(hexcode[i:i+2], 16) / 255\n",
    "        # Split into three strings (R, G, B)\n",
    "        for i in range(0, 6, 2)\n",
    "    ])\n",
    "    \n",
    "shing_aa_colors_rgb"
   ]
  },
  {
   "cell_type": "code",
   "execution_count": 26,
   "metadata": {
    "ExecuteTime": {
     "end_time": "2020-06-09T21:02:21.133809Z",
     "start_time": "2020-06-09T21:02:21.129381Z"
    }
   },
   "outputs": [],
   "source": [
    "taxon_cluster = taxon_cluster.reset_index()"
   ]
  },
  {
   "cell_type": "code",
   "execution_count": 27,
   "metadata": {
    "ExecuteTime": {
     "end_time": "2020-06-09T21:02:21.518066Z",
     "start_time": "2020-06-09T21:02:21.507012Z"
    }
   },
   "outputs": [
    {
     "data": {
      "text/html": [
       "<div>\n",
       "<style scoped>\n",
       "    .dataframe tbody tr th:only-of-type {\n",
       "        vertical-align: middle;\n",
       "    }\n",
       "\n",
       "    .dataframe tbody tr th {\n",
       "        vertical-align: top;\n",
       "    }\n",
       "\n",
       "    .dataframe thead th {\n",
       "        text-align: right;\n",
       "    }\n",
       "</style>\n",
       "<table border=\"1\" class=\"dataframe\">\n",
       "  <thead>\n",
       "    <tr style=\"text-align: right;\">\n",
       "      <th></th>\n",
       "      <th>taxon</th>\n",
       "      <th>snp_str</th>\n",
       "      <th>cluster</th>\n",
       "    </tr>\n",
       "  </thead>\n",
       "  <tbody>\n",
       "    <tr>\n",
       "      <th>0</th>\n",
       "      <td>hCoV-10/Canada/AB5/2020|EPI_ISL_435347|2020-04</td>\n",
       "      <td>[613|D|G]</td>\n",
       "      <td>174</td>\n",
       "    </tr>\n",
       "    <tr>\n",
       "      <th>1</th>\n",
       "      <td>hCoV-19//Estonia/ChVir4266/2020|EPI_ISL_457722...</td>\n",
       "      <td>[613|D|G]</td>\n",
       "      <td>174</td>\n",
       "    </tr>\n",
       "    <tr>\n",
       "      <th>2</th>\n",
       "      <td>hCoV-19/Algeria/G0638_2264/2020|EPI_ISL_418241...</td>\n",
       "      <td>[613|D|G]</td>\n",
       "      <td>174</td>\n",
       "    </tr>\n",
       "    <tr>\n",
       "      <th>3</th>\n",
       "      <td>hCoV-19/Algeria/G0640_2265/2020|EPI_ISL_418242...</td>\n",
       "      <td>[613|D|G]</td>\n",
       "      <td>174</td>\n",
       "    </tr>\n",
       "    <tr>\n",
       "      <th>4</th>\n",
       "      <td>hCoV-19/Algeria/G0860_2262/2020|EPI_ISL_420037...</td>\n",
       "      <td>[613|D|G]</td>\n",
       "      <td>174</td>\n",
       "    </tr>\n",
       "    <tr>\n",
       "      <th>...</th>\n",
       "      <td>...</td>\n",
       "      <td>...</td>\n",
       "      <td>...</td>\n",
       "    </tr>\n",
       "    <tr>\n",
       "      <th>28164</th>\n",
       "      <td>hCoV-19/mouse/Harbin/HRB-26m/2020|EPI_ISL_4599...</td>\n",
       "      <td>[497|Q|H, 673|Y|_, 674|Q|K, 675|T|K, 676|Q|K, ...</td>\n",
       "      <td>173</td>\n",
       "    </tr>\n",
       "    <tr>\n",
       "      <th>28165</th>\n",
       "      <td>hCov-19/Canada/AG1/2020|EPI_ISL_435344|2020-04</td>\n",
       "      <td>[613|D|G]</td>\n",
       "      <td>174</td>\n",
       "    </tr>\n",
       "    <tr>\n",
       "      <th>28166</th>\n",
       "      <td>hCov-19/Canada/AG6/2020|EPI_ISL_435343|2020-04</td>\n",
       "      <td>[613|D|G]</td>\n",
       "      <td>174</td>\n",
       "    </tr>\n",
       "    <tr>\n",
       "      <th>28167</th>\n",
       "      <td>hCov-19/Oman/RESP-20-4153/2020|EPI_ISL_457988|...</td>\n",
       "      <td>[613|D|G]</td>\n",
       "      <td>174</td>\n",
       "    </tr>\n",
       "    <tr>\n",
       "      <th>28168</th>\n",
       "      <td>hCov-19/USA/CT-Yale-072/2020|EPI_ISL_428400|20...</td>\n",
       "      <td>[613|D|G]</td>\n",
       "      <td>174</td>\n",
       "    </tr>\n",
       "  </tbody>\n",
       "</table>\n",
       "<p>28169 rows × 3 columns</p>\n",
       "</div>"
      ],
      "text/plain": [
       "                                                   taxon  \\\n",
       "0         hCoV-10/Canada/AB5/2020|EPI_ISL_435347|2020-04   \n",
       "1      hCoV-19//Estonia/ChVir4266/2020|EPI_ISL_457722...   \n",
       "2      hCoV-19/Algeria/G0638_2264/2020|EPI_ISL_418241...   \n",
       "3      hCoV-19/Algeria/G0640_2265/2020|EPI_ISL_418242...   \n",
       "4      hCoV-19/Algeria/G0860_2262/2020|EPI_ISL_420037...   \n",
       "...                                                  ...   \n",
       "28164  hCoV-19/mouse/Harbin/HRB-26m/2020|EPI_ISL_4599...   \n",
       "28165     hCov-19/Canada/AG1/2020|EPI_ISL_435344|2020-04   \n",
       "28166     hCov-19/Canada/AG6/2020|EPI_ISL_435343|2020-04   \n",
       "28167  hCov-19/Oman/RESP-20-4153/2020|EPI_ISL_457988|...   \n",
       "28168  hCov-19/USA/CT-Yale-072/2020|EPI_ISL_428400|20...   \n",
       "\n",
       "                                                 snp_str  cluster  \n",
       "0                                              [613|D|G]      174  \n",
       "1                                              [613|D|G]      174  \n",
       "2                                              [613|D|G]      174  \n",
       "3                                              [613|D|G]      174  \n",
       "4                                              [613|D|G]      174  \n",
       "...                                                  ...      ...  \n",
       "28164  [497|Q|H, 673|Y|_, 674|Q|K, 675|T|K, 676|Q|K, ...      173  \n",
       "28165                                          [613|D|G]      174  \n",
       "28166                                          [613|D|G]      174  \n",
       "28167                                          [613|D|G]      174  \n",
       "28168                                          [613|D|G]      174  \n",
       "\n",
       "[28169 rows x 3 columns]"
      ]
     },
     "execution_count": 27,
     "metadata": {},
     "output_type": "execute_result"
    }
   ],
   "source": [
    "taxon_cluster"
   ]
  },
  {
   "cell_type": "code",
   "execution_count": 28,
   "metadata": {
    "ExecuteTime": {
     "end_time": "2020-06-09T21:02:21.917014Z",
     "start_time": "2020-06-09T21:02:21.910631Z"
    }
   },
   "outputs": [
    {
     "name": "stdout",
     "output_type": "stream",
     "text": [
      "(1274, 3)\n"
     ]
    },
    {
     "data": {
      "text/plain": [
       "array([[0.6, 0.8, 1. ],\n",
       "       [0. , 0.8, 1. ],\n",
       "       [0. , 0. , 1. ],\n",
       "       ...,\n",
       "       [0.8, 1. , 0.8],\n",
       "       [0. , 1. , 0.6],\n",
       "       [1. , 0. , 0. ]])"
      ]
     },
     "execution_count": 28,
     "metadata": {},
     "output_type": "execute_result"
    }
   ],
   "source": [
    "# Make the bitmap row for the reference (Spike AA)\n",
    "reference_rgb = np.array([\n",
    "    list(shing_aa_colors_rgb[char])\n",
    "    for char in list(spike_aa)\n",
    "])\n",
    "print(reference_rgb.shape)\n",
    "reference_rgb"
   ]
  },
  {
   "cell_type": "code",
   "execution_count": 31,
   "metadata": {
    "ExecuteTime": {
     "end_time": "2020-06-09T20:32:45.724891Z",
     "start_time": "2020-06-09T20:32:45.312552Z"
    }
   },
   "outputs": [
    {
     "data": {
      "text/plain": [
       "(28169, 1274, 3)"
      ]
     },
     "execution_count": 31,
     "metadata": {},
     "output_type": "execute_result"
    }
   ],
   "source": [
    "# Make bitmap matrix. (N x M x 3), where N = number or rows (taxons), M = columns (gene coordinates),\n",
    "# and 3 = tuple of (R, G, B)\n",
    "# bitmat = np.zeros((len(taxon_cluster), len(spike_aa), 3))\n",
    "bitmat = np.repeat(reference_rgb, len(taxon_cluster), axis=0)\n",
    "bitmat = np.reshape(bitmat, (len(taxon_cluster), 1274, 3), order='F')\n",
    "bitmat.shape"
   ]
  },
  {
   "cell_type": "code",
   "execution_count": 33,
   "metadata": {
    "ExecuteTime": {
     "end_time": "2020-06-09T21:03:22.075827Z",
     "start_time": "2020-06-09T21:03:21.766695Z"
    }
   },
   "outputs": [
    {
     "data": {
      "text/plain": [
       "(28169, 1274, 3)"
      ]
     },
     "execution_count": 33,
     "metadata": {},
     "output_type": "execute_result"
    }
   ],
   "source": [
    "bitmat = np.ones((len(taxon_cluster), len(spike_aa), 3))\n",
    "bitmat.shape"
   ]
  },
  {
   "cell_type": "code",
   "execution_count": 34,
   "metadata": {
    "ExecuteTime": {
     "end_time": "2020-06-09T21:03:23.425034Z",
     "start_time": "2020-06-09T21:03:23.417360Z"
    },
    "scrolled": true
   },
   "outputs": [
    {
     "data": {
      "text/plain": [
       "array([[[1., 1., 1.],\n",
       "        [1., 1., 1.],\n",
       "        [1., 1., 1.],\n",
       "        ...,\n",
       "        [1., 1., 1.],\n",
       "        [1., 1., 1.],\n",
       "        [1., 1., 1.]],\n",
       "\n",
       "       [[1., 1., 1.],\n",
       "        [1., 1., 1.],\n",
       "        [1., 1., 1.],\n",
       "        ...,\n",
       "        [1., 1., 1.],\n",
       "        [1., 1., 1.],\n",
       "        [1., 1., 1.]],\n",
       "\n",
       "       [[1., 1., 1.],\n",
       "        [1., 1., 1.],\n",
       "        [1., 1., 1.],\n",
       "        ...,\n",
       "        [1., 1., 1.],\n",
       "        [1., 1., 1.],\n",
       "        [1., 1., 1.]],\n",
       "\n",
       "       ...,\n",
       "\n",
       "       [[1., 1., 1.],\n",
       "        [1., 1., 1.],\n",
       "        [1., 1., 1.],\n",
       "        ...,\n",
       "        [1., 1., 1.],\n",
       "        [1., 1., 1.],\n",
       "        [1., 1., 1.]],\n",
       "\n",
       "       [[1., 1., 1.],\n",
       "        [1., 1., 1.],\n",
       "        [1., 1., 1.],\n",
       "        ...,\n",
       "        [1., 1., 1.],\n",
       "        [1., 1., 1.],\n",
       "        [1., 1., 1.]],\n",
       "\n",
       "       [[1., 1., 1.],\n",
       "        [1., 1., 1.],\n",
       "        [1., 1., 1.],\n",
       "        ...,\n",
       "        [1., 1., 1.],\n",
       "        [1., 1., 1.],\n",
       "        [1., 1., 1.]]])"
      ]
     },
     "execution_count": 34,
     "metadata": {},
     "output_type": "execute_result"
    }
   ],
   "source": [
    "bitmat"
   ]
  },
  {
   "cell_type": "code",
   "execution_count": 35,
   "metadata": {
    "ExecuteTime": {
     "end_time": "2020-06-09T21:03:30.211393Z",
     "start_time": "2020-06-09T21:03:27.218182Z"
    },
    "scrolled": true
   },
   "outputs": [
    {
     "name": "stdout",
     "output_type": "stream",
     "text": [
      "0\n",
      "5000\n",
      "10000\n",
      "15000\n",
      "20000\n",
      "25000\n"
     ]
    },
    {
     "data": {
      "text/plain": [
       "array([[[1., 1., 1.],\n",
       "        [1., 1., 1.],\n",
       "        [1., 1., 1.],\n",
       "        ...,\n",
       "        [1., 1., 1.],\n",
       "        [1., 1., 1.],\n",
       "        [1., 1., 1.]],\n",
       "\n",
       "       [[1., 1., 1.],\n",
       "        [1., 1., 1.],\n",
       "        [1., 1., 1.],\n",
       "        ...,\n",
       "        [1., 1., 1.],\n",
       "        [1., 1., 1.],\n",
       "        [1., 1., 1.]],\n",
       "\n",
       "       [[1., 1., 1.],\n",
       "        [1., 1., 1.],\n",
       "        [1., 1., 1.],\n",
       "        ...,\n",
       "        [1., 1., 1.],\n",
       "        [1., 1., 1.],\n",
       "        [1., 1., 1.]],\n",
       "\n",
       "       ...,\n",
       "\n",
       "       [[1., 1., 1.],\n",
       "        [1., 1., 1.],\n",
       "        [1., 1., 1.],\n",
       "        ...,\n",
       "        [1., 1., 1.],\n",
       "        [1., 1., 1.],\n",
       "        [1., 1., 1.]],\n",
       "\n",
       "       [[1., 1., 1.],\n",
       "        [1., 1., 1.],\n",
       "        [1., 1., 1.],\n",
       "        ...,\n",
       "        [1., 1., 1.],\n",
       "        [1., 1., 1.],\n",
       "        [1., 1., 1.]],\n",
       "\n",
       "       [[1., 1., 1.],\n",
       "        [1., 1., 1.],\n",
       "        [1., 1., 1.],\n",
       "        ...,\n",
       "        [1., 1., 1.],\n",
       "        [1., 1., 1.],\n",
       "        [1., 1., 1.]]])"
      ]
     },
     "execution_count": 35,
     "metadata": {},
     "output_type": "execute_result"
    }
   ],
   "source": [
    "# For each row:\n",
    "for i, row in taxon_cluster.iterrows():\n",
    "    if i % 5000 == 0:\n",
    "        print(i)\n",
    "    for snp in row['snp_str']:\n",
    "        if type(snp) is not str:\n",
    "            continue\n",
    "        \n",
    "        snp_split = snp.split('|')\n",
    "        \n",
    "        if snp_split[2] == '*':\n",
    "            continue\n",
    "        \n",
    "        bitmat[i, int(snp_split[0])] = np.array(shing_aa_colors_rgb[snp_split[2]])\n",
    "\n",
    "bitmat        "
   ]
  },
  {
   "cell_type": "code",
   "execution_count": 37,
   "metadata": {
    "ExecuteTime": {
     "end_time": "2020-06-09T21:04:38.799817Z",
     "start_time": "2020-06-09T21:04:20.707006Z"
    }
   },
   "outputs": [
    {
     "data": {
      "image/png": "[encoded data removed]",
      "text/plain": [
       "<Figure size 1440x20304 with 1 Axes>"
      ]
     },
     "metadata": {
      "needs_background": "light"
     },
     "output_type": "display_data"
    }
   ],
   "source": [
    "fig, ax = plt.subplots(1, 1)\n",
    "# Default DPI is 100\n",
    "# 28169 pixels / 100 pixels/inch = 281 inches\n",
    "# Try to keep it rectangular, so set width to 300\n",
    "# fig.set_size_inches(300, 282)\n",
    "# Ok, that crashed my computer\n",
    "# Make it 50, 100? And dont display here\n",
    "fig.set_size_inches(20, 282)\n",
    "\n",
    "# aspect='auto' means pixels can be rectangular, not just square\n",
    "ax.imshow(bitmat, aspect='auto')\n",
    "\n",
    "fig.savefig('spike_rainbow_clean.png', dpi=100)\n",
    "\n",
    "plt.show()"
   ]
  }
 ],
 "metadata": {
  "kernelspec": {
   "display_name": "Python 3",
   "language": "python",
   "name": "python3"
  },
  "language_info": {
   "codemirror_mode": {
    "name": "ipython",
    "version": 3
   },
   "file_extension": ".py",
   "mimetype": "text/x-python",
   "name": "python",
   "nbconvert_exporter": "python",
   "pygments_lexer": "ipython3",
   "version": "3.6.10"
  },
  "toc": {
   "base_numbering": 1,
   "nav_menu": {},
   "number_sections": true,
   "sideBar": true,
   "skip_h1_title": false,
   "title_cell": "Table of Contents",
   "title_sidebar": "Contents",
   "toc_cell": false,
   "toc_position": {},
   "toc_section_display": true,
   "toc_window_display": true
  },
  "varInspector": {
   "cols": {
    "lenName": 16,
    "lenType": 16,
    "lenVar": 40
   },
   "kernels_config": {
    "python": {
     "delete_cmd_postfix": "",
     "delete_cmd_prefix": "del ",
     "library": "var_list.py",
     "varRefreshCmd": "print(var_dic_list())"
    },
    "r": {
     "delete_cmd_postfix": ") ",
     "delete_cmd_prefix": "rm(",
     "library": "var_list.r",
     "varRefreshCmd": "cat(var_dic_list()) "
    }
   },
   "types_to_exclude": [
    "module",
    "function",
    "builtin_function_or_method",
    "instance",
    "_Feature"
   ],
   "window_display": false
  }
 },
 "nbformat": 4,
 "nbformat_minor": 4
}
